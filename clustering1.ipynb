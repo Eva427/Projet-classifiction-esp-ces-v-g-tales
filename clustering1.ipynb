{
 "cells": [
  {
   "cell_type": "code",
   "execution_count": 29,
   "metadata": {},
   "outputs": [],
   "source": [
    "import rasterio \n",
    "import rasterio.features \n",
    "import rasterio.warp \n",
    "import numpy as np \n",
    "from sklearn.cluster import KMeans\n",
    "import matplotlib.pyplot as plt "
   ]
  },
  {
   "cell_type": "code",
   "execution_count": 30,
   "metadata": {},
   "outputs": [],
   "source": [
    "dataset = rasterio.open(\"./Data/proba_log_reg_l1_extract.tif\")\n",
    "dataset = dataset.read()\n",
    "dataset2 = rasterio.open('./Data/class_log_reg_l1_extract.tif')\n",
    "dataset2 = dataset2.read()"
   ]
  },
  {
   "cell_type": "code",
   "execution_count": 31,
   "metadata": {},
   "outputs": [
    {
     "name": "stdout",
     "output_type": "stream",
     "text": [
      "1.0\n",
      "0.0\n"
     ]
    }
   ],
   "source": [
    "print(np.sum(dataset[:,321,89])) #On somme les probas d'appartenance du pixel (321,89) à toutes les classes, le résultat doit valoir 1 \n",
    "print(np.sum(dataset[:,1,2])) "
   ]
  },
  {
   "cell_type": "code",
   "execution_count": 32,
   "metadata": {},
   "outputs": [
    {
     "name": "stdout",
     "output_type": "stream",
     "text": [
      "[3.0893169e-08 8.0709122e-02 6.7250209e-04 9.1566640e-01 7.8258058e-04\n",
      " 1.6859564e-03 1.4423195e-08 4.8079420e-04 2.4016593e-13 2.6223506e-06]\n"
     ]
    }
   ],
   "source": [
    "print(dataset[:,321,89])"
   ]
  },
  {
   "cell_type": "code",
   "execution_count": 33,
   "metadata": {},
   "outputs": [
    {
     "name": "stdout",
     "output_type": "stream",
     "text": [
      "(10, 624, 361)\n"
     ]
    }
   ],
   "source": [
    "print(np.shape(dataset))"
   ]
  },
  {
   "cell_type": "code",
   "execution_count": 34,
   "metadata": {},
   "outputs": [],
   "source": [
    "#Creation d'une liste de 624*89 éléments contenant les vecteurs de probabilités d'appartenance d'un pixel à une classe\n",
    "nb_class = np.shape(dataset)[0] \n",
    "nb_raws = np.shape(dataset)[1] \n",
    "nb_columns = np.shape(dataset)[2]\n",
    "vect_nul = np.zeros(nb_class).tolist()\n",
    "#Les listes ci-dessous contiennent les probabilités d'appartenance d'un pixel à chaque classe ainsi que ses coordonnées (ligne, colonne) en avant-dernier et dernier élément\n",
    "liste_probas_fiables_sans_coord = [] #pixels qui vont pouvoir entrainer notre modèle\n",
    "liste_probas_fiables_avec_coord = [] #même que celui d'au dessus, mais avec les coordonnées des points en plus #on pourra juste stocker les coordonnées dedans\n",
    "liste_probas_ombres = [] #pixels d'ombre\n",
    "liste_probas_apredire = [] #pixels ambigus => kmeans nous permettra de les attribuer en fonction d'un certain seuil à la bonne classe\n",
    "\n",
    "for i in range(nb_raws) :\n",
    "    for j in range(nb_columns) :\n",
    "        aux = dataset[:,i,j].tolist()\n",
    "        #Repérage des pixels ayant été classés avec une probabilité inférieure à 0.5\n",
    "        threshold = 0.5\n",
    "        bool = all(proba < threshold for proba in aux) \n",
    "            #bool = False si au moins une probabilité est supérieure à 0.5\n",
    "            #bool = True si aucune probabilité n'excède 0.5\n",
    "\n",
    "        if aux == vect_nul : #On rejette du modèle les pixels d'ombre \n",
    "            liste_probas_ombres.append(dataset[:,i,j].tolist() + [i] + [j])  #on peut supprimer dataset[:,i,j].tolist()\n",
    "        if not(bool) : #On rejette aussi ceux ayant été classés avec une probabilité inférieure à 0.5 et que l'on devra prédire à la fin \n",
    "            liste_probas_apredire.append(dataset[:,i,j].tolist() + [i] + [j])  \n",
    "        else : \n",
    "            liste_probas_fiables_sans_coord.append(dataset[:,i,j].tolist() + [i] + [j])"
   ]
  },
  {
   "cell_type": "code",
   "execution_count": 37,
   "metadata": {},
   "outputs": [
    {
     "name": "stdout",
     "output_type": "stream",
     "text": [
      "97642\n"
     ]
    }
   ],
   "source": [
    "print(len(liste_probas_fiables_sans_coord)) \n",
    "#127622 au lieu de 225264 ce qui fait environ 56% des données que l'on peut considérer fiables pour entraîner le modèle"
   ]
  },
  {
   "cell_type": "code",
   "execution_count": 38,
   "metadata": {},
   "outputs": [
    {
     "name": "stdout",
     "output_type": "stream",
     "text": [
      "[8 8 8 ... 2 2 2]\n"
     ]
    }
   ],
   "source": [
    "#kmeans sur les données fiables\n",
    "kmeans = KMeans(n_clusters=9, random_state=0).fit(liste_probas_fiables_sans_coord) #9 clusters et non 10 car on a supprimé les pixels d'ombre\n",
    "labels = kmeans.labels_ \n",
    "print(labels) #vérifier à quel arbre correspond chaque cluster"
   ]
  },
  {
   "cell_type": "code",
   "execution_count": 40,
   "metadata": {},
   "outputs": [
    {
     "data": {
      "text/plain": [
       "97642"
      ]
     },
     "execution_count": 40,
     "metadata": {},
     "output_type": "execute_result"
    }
   ],
   "source": [
    "len(labels)"
   ]
  },
  {
   "cell_type": "markdown",
   "metadata": {},
   "source": [
    "Remarque : pour ensuite garder le lien entre les pixels dans les listes on peut faire un dictionnaire pour sauvegarder ses coordonnées dans l'image"
   ]
  },
  {
   "cell_type": "code",
   "execution_count": null,
   "metadata": {},
   "outputs": [],
   "source": [
    "#Centre des clusters \n",
    "centers = kmeans.cluster_centers_\n",
    "#print(centers)"
   ]
  },
  {
   "cell_type": "code",
   "execution_count": null,
   "metadata": {},
   "outputs": [],
   "source": [
    "#Somme des distance de chaque point à leur cluster leur plus proche\n",
    "distance = kmeans.inertia_"
   ]
  },
  {
   "cell_type": "code",
   "execution_count": 36,
   "metadata": {},
   "outputs": [
    {
     "data": {
      "text/plain": [
       "386939773.054471"
      ]
     },
     "execution_count": 36,
     "metadata": {},
     "output_type": "execute_result"
    }
   ],
   "source": [
    "distance"
   ]
  },
  {
   "cell_type": "code",
   "execution_count": 21,
   "metadata": {},
   "outputs": [
    {
     "name": "stdout",
     "output_type": "stream",
     "text": [
      "[3.089316891191629e-08, 0.08070912212133408, 0.0006725020939484239, 0.915666401386261, 0.0007825805805623531, 0.0016859563766047359, 1.4423195082713391e-08, 0.0004807942023035139, 2.401659329308997e-13, 2.622350621095393e-06]\n"
     ]
    }
   ],
   "source": [
    "essai = dataset[:,321,89].tolist()\n",
    "print(essai)\n",
    "liste1 = []\n",
    "liste1.append(dataset[:,321,89].tolist() + [321] + [89])"
   ]
  },
  {
   "cell_type": "code",
   "execution_count": null,
   "metadata": {},
   "outputs": [],
   "source": []
  }
 ],
 "metadata": {
  "kernelspec": {
   "display_name": "Python 3",
   "language": "python",
   "name": "python3"
  },
  "language_info": {
   "codemirror_mode": {
    "name": "ipython",
    "version": 3
   },
   "file_extension": ".py",
   "mimetype": "text/x-python",
   "name": "python",
   "nbconvert_exporter": "python",
   "pygments_lexer": "ipython3",
   "version": "3.8.5"
  }
 },
 "nbformat": 4,
 "nbformat_minor": 5
}
